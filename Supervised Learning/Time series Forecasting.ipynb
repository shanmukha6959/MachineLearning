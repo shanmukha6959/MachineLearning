{
 "cells": [
  {
   "cell_type": "markdown",
   "id": "25ba3223",
   "metadata": {},
   "source": [
    "Time Series\n",
    "Time series is a set of observations o the values that a variable takes at different time.\n",
    "\n",
    "i.e statistics, sales trends, stock market price, weather forecasting, earthquake prediction, mathematical finance and may more applications.\n",
    "\n",
    "such data may be collected at `regular time intervals`, such as monthly (eg. CPI), weekly (eg. Money supply), quarterly (eg. GDP) or annually (eg. Goverment Budget).\n",
    "\n",
    "Time series is used to predict the future values based on the previous observed value.\n",
    "\n",
    "The use of prior time steps to predict the next time step is called the **sliding window method**. For short, it may be called the window method in some literature. In statistics and time series analysis, this is called a lag or lag method.\n",
    "\n",
    "The number of previous time steps is called the window width or size of the lag.\n",
    "\n",
    "Compnent of time series:\n",
    "\n",
    "- Trend\n",
    "- Seasonality\n",
    "- Irregularity\n",
    "- Cyclic\n",
    "- Level\n",
    "\n",
    "1. `Trend:` shows the growth or decline in a time series(relatively smooth pattern) over a long period(more than a year).\n",
    "\n",
    "2. `Seasonality:` These are short term movements(within a year or shorter) occurring in data(regular intervals) due to seasonal factors.\n",
    "\n",
    "3. `Irregularity:` These are sudden changes occurring in a time series which are unlikely to be repeated. \n",
    "   These variations are sometimes called residual or random components.\n",
    "\n",
    "4. `Cyclic:` These are long term(more than a year) oscillations(rarely regular) occurring in a time series.\n",
    "\n",
    "5. `Level:` Any time series will have a baseline(Level). To this baseline we add different components to form a complete time series. \n",
    "\n",
    "https://www.youtube.com/watch?v=wGUV_XqchbE"
   ]
  },
  {
   "cell_type": "markdown",
   "id": "811a09fe",
   "metadata": {},
   "source": [
    "**Types of Time series:**\n",
    "\n",
    "`Univariate Time Series:` These are datasets where only a single variable is observed at each time, such as temperature each hour. The example in the previous section is a univariate time series dataset.\n",
    "\n",
    "`Multivariate Time Series:` These are datasets where two or more variables are observed at each time."
   ]
  },
  {
   "cell_type": "markdown",
   "id": "0d48acd6",
   "metadata": {},
   "source": [
    "Why Time series forecasting is important than regression(multivariant forecasting)?\n",
    "\n",
    "for example, for regresion analysis we have\n",
    "\n",
    "    Y = a+bX\n",
    "\n",
    "where X is independent and Y is dependent variables and a & b are covariants or different factors. When we have Y values for different time periods and dont have X or covariants then we go for Time series forecasting because we only have one variable we can plot the train data and see the pattern of the variable over time. based on the historical pattern we can extrapolate the future values. \n",
    "\n",
    "In time series forecasting we use \n",
    "\n",
    "Yt = bYt-1 + e\n",
    "\n",
    "Where Yt is the future time step, Yt-1 is previous time step taken as input and e is error.\n",
    "\n",
    "Here we dont have any different independent variable. Instead we have input as the previous time step.\n",
    "\n",
    "We are forecasting Yt using Yt-1 i.e the previous time step. This is called `Univariant time series` as we are forecasting only one variable."
   ]
  },
  {
   "cell_type": "markdown",
   "id": "e3a71584",
   "metadata": {},
   "source": [
    "#### Idea behind Univariate Time Series Modelling"
   ]
  },
  {
   "cell_type": "markdown",
   "id": "78d0f2b0",
   "metadata": {},
   "source": [
    "The need to use univariate modelling arises in situations where:\n",
    "\n",
    "a) An appropriate economic theory to the relationship between series may not be available and hence one considers only the statistical relationship of the given series with its past values.\n",
    "\n",
    "b) Sometimes even when the set of explanatory variables may be known it may not be possible to obtain the entire set of such variables required to estimate a regression model and one would then have to use only a single series of the dependent variable to forecast the future values."
   ]
  },
  {
   "cell_type": "markdown",
   "id": "2c37c06c",
   "metadata": {},
   "source": [
    "#### Applications"
   ]
  },
  {
   "cell_type": "markdown",
   "id": "2877489f",
   "metadata": {},
   "source": [
    "a) Forecasting inflation rate or unemployment rates or the new inflow of foregin funds in the near future could be of interest to the government.\n",
    "\n",
    "b) Firms may be interested in demand for their product(e.g. two-wheelers, soft drinks bottles, or soaps, etc.) or the market share of their product.\n",
    "\n",
    "c) Houing finance companies may want to forecast both the mortgage interest rate and the demand of housing loans.\n",
    "\n",
    "d) Forecasting gold or silver prices by the jewel merchant."
   ]
  },
  {
   "cell_type": "markdown",
   "id": "9fc36d31",
   "metadata": {},
   "source": [
    "### Different Time Series Processes"
   ]
  },
  {
   "cell_type": "markdown",
   "id": "64fdd52f",
   "metadata": {},
   "source": [
    "#### 1. White Noise"
   ]
  },
  {
   "cell_type": "markdown",
   "id": "e81ab3a1",
   "metadata": {},
   "source": [
    "Aseries is called white noise if `it is purely random in nature`. Let {et} denote such a series then \n",
    "- it has `zero mean` [E(et)=0], \n",
    "- has a `constant variance` [V(et)=sd^2] and \n",
    "- is an `uncorrelated` [E(etes)=0] random variable.\n",
    "\n",
    "The scatter plot of suh a series across time will indicate no pattern and hence forecasting the future values of such a series is not possible.\n",
    "\n",
    "Possible solution could be `Average of time series`."
   ]
  },
  {
   "cell_type": "markdown",
   "id": "ef651713",
   "metadata": {},
   "source": [
    "#### 2. AutoRegressive Model (AR)"
   ]
  },
  {
   "cell_type": "markdown",
   "id": "be66d9ea",
   "metadata": {},
   "source": [
    "An AR model is one in which Yt depends only on its own past values Yt-1, Yt-2, Yt-3, etc.\n",
    "\n",
    "Thus,\n",
    "Yt = f(Yt-1, Yt-2, Yt-3,.....,et)\n",
    "\n",
    "A common representation of an autoregressive model where it depends on p(parameter) of its past values called as AR(p) model is represented below:\n",
    "\n",
    "Yt = b0 + b1Yt-1+ b2Yt-2+ b3Yt-3+......+bpYt-p+et\n",
    "\n",
    "AR(0) model Yt = b0\n",
    "\n",
    "AR(1) model Yt = b0 + b1Yt-1\n",
    "\n",
    "AR(2) model Yt = b0 + b1Yt-1+ b2Yt-2\n",
    "\n",
    "usually goes till p=4"
   ]
  },
  {
   "cell_type": "markdown",
   "id": "bca64446",
   "metadata": {},
   "source": [
    "#### 3. Moving Average Model (MA)"
   ]
  },
  {
   "cell_type": "markdown",
   "id": "0ecf0461",
   "metadata": {},
   "source": []
  },
  {
   "cell_type": "markdown",
   "id": "9557680d",
   "metadata": {},
   "source": [
    "#### 4. AutoRegressive Moving Average model (ARMA)"
   ]
  },
  {
   "cell_type": "markdown",
   "id": "97b2c3ac",
   "metadata": {},
   "source": []
  },
  {
   "cell_type": "code",
   "execution_count": null,
   "id": "d3502fea",
   "metadata": {},
   "outputs": [],
   "source": []
  }
 ],
 "metadata": {
  "kernelspec": {
   "display_name": "Python 3 (ipykernel)",
   "language": "python",
   "name": "python3"
  },
  "language_info": {
   "codemirror_mode": {
    "name": "ipython",
    "version": 3
   },
   "file_extension": ".py",
   "mimetype": "text/x-python",
   "name": "python",
   "nbconvert_exporter": "python",
   "pygments_lexer": "ipython3",
   "version": "3.9.7"
  }
 },
 "nbformat": 4,
 "nbformat_minor": 5
}
