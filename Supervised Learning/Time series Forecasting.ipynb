{
 "cells": [
  {
   "cell_type": "markdown",
   "id": "d55c7b60",
   "metadata": {},
   "source": [
    "Time Series\n",
    "Time series is a set of observations o the values that a variable takes at different time.\n",
    "\n",
    "i.e sakes trends, stock market price, weather forecast.\n",
    "\n",
    "Time series is used to predict the future values based on the previous observed value.\n",
    "\n",
    "Compnent of time series:\n",
    "\n",
    "- Trend\n",
    "- Seasonality\n",
    "- Irregularity\n",
    "- Cyclic\n",
    "- Level\n",
    "\n",
    "1. `Trend:` shows the growth or decline in a time series over a long period.\n",
    "\n",
    "2. `Seasonality:` These are short term movements occurring in data due to seasonal factors.\n",
    "\n",
    "3. `Irregularity:` These are sudden changes occurring in a time series which are unlikely to be repeated. \n",
    "   These variations are sometimes called residual or random components.\n",
    "\n",
    "4. `Cyclic:` These are long term oscillations occurring in a time series.\n",
    "\n",
    "5. `Level:` Any time series will have a baseline(Level). To this baseline we add different components to form a complete time series. \n",
    "\n",
    "https://www.youtube.com/watch?v=wGUV_XqchbE"
   ]
  },
  {
   "cell_type": "code",
   "execution_count": null,
   "id": "34bfb796",
   "metadata": {},
   "outputs": [],
   "source": []
  }
 ],
 "metadata": {
  "kernelspec": {
   "display_name": "Python 3 (ipykernel)",
   "language": "python",
   "name": "python3"
  },
  "language_info": {
   "codemirror_mode": {
    "name": "ipython",
    "version": 3
   },
   "file_extension": ".py",
   "mimetype": "text/x-python",
   "name": "python",
   "nbconvert_exporter": "python",
   "pygments_lexer": "ipython3",
   "version": "3.9.7"
  }
 },
 "nbformat": 4,
 "nbformat_minor": 5
}
