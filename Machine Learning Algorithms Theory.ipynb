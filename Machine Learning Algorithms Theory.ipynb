{
 "cells": [
  {
   "cell_type": "markdown",
   "id": "4125da7b",
   "metadata": {},
   "source": [
    "### Supervised Learning:\n",
    "\n",
    "- In Supervised Learning we have input and target for a model. In the given dataset we have class label or target variable present.\n",
    "\n",
    "- Different types of algorithms used:\n",
    "    - Linear Regression\n",
    "          a) Single Variable\n",
    "          b) Multi Variable\n",
    "    - Logistic Regression\n",
    "    - Classification\n",
    "          a) Binary Classification\n",
    "          b) Multiclass Classification\n",
    "    - Support Vector Manchine (SVM)\n",
    "    - Decision Tree\n",
    "    - Random Forest\n",
    "    - Cross Validation (KFold)\n"
   ]
  },
  {
   "cell_type": "markdown",
   "id": "3cead204",
   "metadata": {},
   "source": [
    "### UnSupervised Learning:\n",
    "\n",
    "- In UnSupervised Learning all we have is set of features and dont know about the class label or target variable. Using this dataset we try to find the under lying structure in that data or we try to find clusters in the data and do predictions.\n",
    "\n",
    "- Different types of algorithms used:\n",
    "    - K Means Clustering Algorithm (Elbow Technique)\n",
    "    - Naive Bayes Theorem (Bernoulli, Gaussian, Multinomial NB)"
   ]
  },
  {
   "cell_type": "markdown",
   "id": "0beec1c9",
   "metadata": {},
   "source": [
    "### Reinforcement Learning:\n",
    "\n",
    "- Different types of algorithms used:"
   ]
  },
  {
   "cell_type": "code",
   "execution_count": null,
   "id": "a92b6227",
   "metadata": {},
   "outputs": [],
   "source": []
  }
 ],
 "metadata": {
  "kernelspec": {
   "display_name": "Python 3",
   "language": "python",
   "name": "python3"
  },
  "language_info": {
   "codemirror_mode": {
    "name": "ipython",
    "version": 3
   },
   "file_extension": ".py",
   "mimetype": "text/x-python",
   "name": "python",
   "nbconvert_exporter": "python",
   "pygments_lexer": "ipython3",
   "version": "3.8.8"
  }
 },
 "nbformat": 4,
 "nbformat_minor": 5
}
